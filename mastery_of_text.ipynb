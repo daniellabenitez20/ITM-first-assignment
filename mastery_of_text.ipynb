{
 "cells": [
  {
   "cell_type": "code",
   "execution_count": 1,
   "id": "36d93ad1",
   "metadata": {},
   "outputs": [
    {
     "name": "stdout",
     "output_type": "stream",
     "text": [
      "Trying to open URL...\n",
      "Successfully opened URL.\n",
      "Line count: 99969\n",
      "Word count: 857533\n",
      "No. of times 'apostle' appears: 113\n",
      "Most common word: ('the', 64298)\n"
     ]
    }
   ],
   "source": [
    "import urllib.request\n",
    "\n",
    "def get_pg10():\n",
    "    try:\n",
    "        print(\"Trying to open URL...\")\n",
    "        with urllib.request.urlopen('https://www.gutenberg.org/cache/epub/10/pg10.txt') as f:\n",
    "            print(\"Successfully opened URL.\")\n",
    "            pg10 = f.read().decode('utf-8')\n",
    "            return pg10 \n",
    "    except urllib.error.URLError as e:\n",
    "        print(\"Failed to open URL.\")\n",
    "        print(e.reason)\n",
    "        return None\n",
    "\n",
    "pg10 = get_pg10()\n",
    "\n",
    "if pg10 is not None:\n",
    "    length = len(pg10.split('\\n'))\n",
    "    print(\"Line count:\", length)\n",
    "\n",
    "import re\n",
    "line = pg10\n",
    "count = len(re.findall(r'\\w+', line))\n",
    "print (\"Word count:\", count)\n",
    "\n",
    "lower_pg10 = pg10.lower()\n",
    "x = lower_pg10.count(\"apostle\")\n",
    "print(\"No. of times 'apostle' appears:\", x)\n",
    "\n",
    "from collections import Counter\n",
    "\n",
    "def most_common_word():\n",
    "    words = pg10.lower().split()\n",
    "    word_counts = Counter(word for word in words if word.isalpha())\n",
    "    if not word_counts:\n",
    "        return None\n",
    "    return word_counts.most_common(1)[0]\n",
    "\n",
    "most_common = most_common_word()\n",
    "print(\"Most common word:\", most_common)"
   ]
  },
  {
   "cell_type": "code",
   "execution_count": null,
   "id": "e9b8b6ba",
   "metadata": {},
   "outputs": [],
   "source": []
  }
 ],
 "metadata": {
  "kernelspec": {
   "display_name": "base",
   "language": "python",
   "name": "python3"
  },
  "language_info": {
   "codemirror_mode": {
    "name": "ipython",
    "version": 3
   },
   "file_extension": ".py",
   "mimetype": "text/x-python",
   "name": "python",
   "nbconvert_exporter": "python",
   "pygments_lexer": "ipython3",
   "version": "3.12.7"
  }
 },
 "nbformat": 4,
 "nbformat_minor": 5
}
