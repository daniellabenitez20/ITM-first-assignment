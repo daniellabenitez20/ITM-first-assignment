{
 "cells": [
  {
   "cell_type": "code",
   "execution_count": 1,
   "id": "6fbb289c-b679-4d76-8246-19f6e0eebf9b",
   "metadata": {},
   "outputs": [
    {
     "name": "stdout",
     "output_type": "stream",
     "text": [
      "Trying to open URL...\n",
      "Successfully opened URL.\n",
      "Line count: 99968\n",
      "Word count: 795227\n",
      "No. of times 'apostle' appears: 113\n",
      "No. of times 'apostle' (standalone) appears: 47\n",
      "Most common word: the\n"
     ]
    }
   ],
   "source": [
    "import urllib.request\n",
    "\n",
    "def get_pg10():\n",
    "    try:\n",
    "        print(\"Trying to open URL...\")\n",
    "        with urllib.request.urlopen('https://www.gutenberg.org/cache/epub/10/pg10.txt') as f:\n",
    "            print(\"Successfully opened URL.\")\n",
    "            pg10 = f.read().decode('utf-8')\n",
    "            return pg10 \n",
    "    except urllib.error.URLError as e:\n",
    "        print(\"Failed to open URL.\")\n",
    "        print(e.reason)\n",
    "        return None\n",
    "\n",
    "pg10 = get_pg10()\n",
    "\n",
    "if pg10 is not None:\n",
    "    length = len(pg10.splitlines())\n",
    "    print(\"Line count:\", length)\n",
    "\n",
    "word_list = []\n",
    "word = \"\"\n",
    "\n",
    "for ch in pg10:\n",
    "    if ch.isalpha():\n",
    "        word += ch\n",
    "    else:\n",
    "        if word != \"\":\n",
    "            word_list.append(word)\n",
    "            word = \"\"\n",
    "word_count = len(word_list)\n",
    "print (\"Word count:\", str(word_count))\n",
    "\n",
    "lower_pg10 = pg10.lower()\n",
    "x = lower_pg10.count(\"apostle\")\n",
    "print(\"No. of times 'apostle' appears:\", x)\n",
    "\n",
    "pg10 = pg10.lower()\n",
    "words = pg10.split()\n",
    "count = 0\n",
    "\n",
    "for word in words:\n",
    "    clean_word = \"\"\n",
    "    for ch in word:\n",
    "        if ch.isalpha():\n",
    "            clean_word += ch\n",
    "    if clean_word == \"apostle\":\n",
    "        count += 1\n",
    "\n",
    "print(\"No. of times 'apostle' (standalone) appears:\", count)\n",
    "\n",
    "words = pg10.lower().split()\n",
    "most_frequent = max(set(words), key=words.count)\n",
    "print(\"Most common word:\", most_frequent)"
   ]
  },
  {
   "cell_type": "code",
   "execution_count": null,
   "id": "e814b798-97f8-4cf2-9991-296e5012fe71",
   "metadata": {},
   "outputs": [],
   "source": []
  }
 ],
 "metadata": {
  "kernelspec": {
   "display_name": "Python [conda env:base] *",
   "language": "python",
   "name": "conda-base-py"
  },
  "language_info": {
   "codemirror_mode": {
    "name": "ipython",
    "version": 3
   },
   "file_extension": ".py",
   "mimetype": "text/x-python",
   "name": "python",
   "nbconvert_exporter": "python",
   "pygments_lexer": "ipython3",
   "version": "3.12.7"
  }
 },
 "nbformat": 4,
 "nbformat_minor": 5
}
